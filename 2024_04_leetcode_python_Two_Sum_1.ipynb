{
  "nbformat": 4,
  "nbformat_minor": 0,
  "metadata": {
    "colab": {
      "provenance": [],
      "authorship_tag": "ABX9TyPqNafUUnsKcW4D0EPl/qdo",
      "include_colab_link": true
    },
    "kernelspec": {
      "name": "python3",
      "display_name": "Python 3"
    },
    "language_info": {
      "name": "python"
    }
  },
  "cells": [
    {
      "cell_type": "markdown",
      "metadata": {
        "id": "view-in-github",
        "colab_type": "text"
      },
      "source": [
        "<a href=\"https://colab.research.google.com/github/saajanrajak/leetcode_python/blob/main/2024_04_leetcode_python_Two_Sum_1.ipynb\" target=\"_parent\"><img src=\"https://colab.research.google.com/assets/colab-badge.svg\" alt=\"Open In Colab\"/></a>"
      ]
    },
    {
      "cell_type": "markdown",
      "source": [
        "# Objective : Lee code"
      ],
      "metadata": {
        "id": "F6gI4wFC6A5j"
      }
    },
    {
      "cell_type": "markdown",
      "source": [
        "## 1 Two sum"
      ],
      "metadata": {
        "id": "_BCVp-0V6GNN"
      }
    },
    {
      "cell_type": "markdown",
      "source": [
        "https://colab.research.google.com/drive/126VT7nMqBDvRBEzESIeWp3FapWpam3QD#scrollTo=_BCVp-0V6GNN&line=1&uniqifier=1"
      ],
      "metadata": {
        "id": "mxyviBRJj0mA"
      }
    },
    {
      "cell_type": "markdown",
      "source": [
        "1. Two Sum\n",
        "Easy\n",
        "Topics\n",
        "Companies\n",
        "Hint\n",
        "Given an array of integers nums and an integer target, return indices of the two numbers such that they add up to target.\n",
        "\n",
        "You may assume that each input would have exactly one solution, and you may not use the same element twice.\n",
        "\n",
        "You can return the answer in any order.\n",
        "\n",
        "\n",
        "\n",
        "Example 1:\n",
        "\n",
        "Input: nums = [2,7,11,15], target = 9\n",
        "Output: [0,1]\n",
        "Explanation: Because nums[0] + nums[1] == 9, we return [0, 1].\n",
        "Example 2:\n",
        "\n",
        "Input: nums = [3,2,4], target = 6\n",
        "Output: [1,2]\n",
        "Example 3:\n",
        "\n",
        "Input: nums = [3,3], target = 6\n",
        "Output: [0,1]\n",
        "\n",
        "\n",
        "Constraints:\n",
        "\n",
        "2 <= nums.length <= 104\n",
        "-109 <= nums[i] <= 109\n",
        "-109 <= target <= 109\n",
        "Only one valid answer exists."
      ],
      "metadata": {
        "id": "Gw_XJ7Q555dt"
      }
    },
    {
      "cell_type": "markdown",
      "source": [
        "## Code"
      ],
      "metadata": {
        "id": "ouFvM6Vzj36q"
      }
    },
    {
      "cell_type": "code",
      "source": [
        "import pandas as pd\n",
        "import numpy as np"
      ],
      "metadata": {
        "id": "Cngga5LrEcPC"
      },
      "execution_count": null,
      "outputs": []
    },
    {
      "cell_type": "code",
      "source": [
        "list_1 = [2,7,11,15]"
      ],
      "metadata": {
        "id": "28i3DhLVekSf"
      },
      "execution_count": null,
      "outputs": []
    },
    {
      "cell_type": "code",
      "source": [
        "# print all values\n",
        "def two_sum_function(nums_list):\n",
        "  for i in range(len(nums_list)): # need to put till -1 range stop\n",
        "    print(nums_list[i])\n",
        "\n",
        "two_sum_function(list_1)"
      ],
      "metadata": {
        "colab": {
          "base_uri": "https://localhost:8080/"
        },
        "id": "pxkFc286fSEY",
        "outputId": "40e7c0c0-64d7-432e-f3f0-a8859bec3c46"
      },
      "execution_count": null,
      "outputs": [
        {
          "output_type": "stream",
          "name": "stdout",
          "text": [
            "2\n",
            "7\n",
            "11\n",
            "15\n"
          ]
        }
      ]
    },
    {
      "cell_type": "code",
      "source": [
        "# print consecutive values values\n",
        "def two_sum_function(nums_list):\n",
        "  for i in range(len(nums_list)-1): # need to put till -1 range stop\n",
        "    print(nums_list[i], nums_list[i+1])\n",
        "\n",
        "two_sum_function(list_1)"
      ],
      "metadata": {
        "colab": {
          "base_uri": "https://localhost:8080/"
        },
        "id": "To5Sqwpgf5kY",
        "outputId": "3c66e1d1-e209-43ad-8202-1105d7a641f7"
      },
      "execution_count": null,
      "outputs": [
        {
          "output_type": "stream",
          "name": "stdout",
          "text": [
            "2 7\n",
            "7 11\n",
            "11 15\n"
          ]
        }
      ]
    },
    {
      "cell_type": "code",
      "execution_count": null,
      "metadata": {
        "id": "yfSblfGa_YkS",
        "colab": {
          "base_uri": "https://localhost:8080/"
        },
        "outputId": "5a2bda37-198f-40c6-cfd9-038325947902"
      },
      "outputs": [
        {
          "output_type": "stream",
          "name": "stdout",
          "text": [
            "9 seq consecutive add\n",
            "18 seq consecutive add\n",
            "26 seq consecutive add\n"
          ]
        }
      ],
      "source": [
        "# here trying to add consecutive numbers\n",
        "def two_sum_function(nums_list):\n",
        "  for i in range(len(nums_list)-1):\n",
        "    val = nums_list[i] + nums_list[i+1]\n",
        "    print(val, \"seq consecutive add\")\n",
        "\n",
        "two_sum_function(list_1)\n",
        "\n"
      ]
    },
    {
      "cell_type": "code",
      "source": [
        "# adding all pairs\n",
        "def two_sum_function_2(nums_list, target_val):\n",
        "  for i in range(0, len(nums_list)):\n",
        "    for j in range(i + 1, len(nums_list)):\n",
        "      val = nums_list[i] + nums_list[j]\n",
        "\n",
        "      print(val, \"m_sum_val\")\n",
        "\n",
        "  #     if val == target_val:\n",
        "  #       print('index:', i, j)\n",
        "  # else: return np.nan\n",
        "print(list_1)\n",
        "two_sum_function_2(list_1, 9)"
      ],
      "metadata": {
        "colab": {
          "base_uri": "https://localhost:8080/"
        },
        "id": "Uu2cd5qg9MXl",
        "outputId": "598a6998-7a3b-4ce1-8511-75388a5a0f1f"
      },
      "execution_count": null,
      "outputs": [
        {
          "output_type": "stream",
          "name": "stdout",
          "text": [
            "[2, 7, 11, 15]\n",
            "9 m_sum_val\n",
            "13 m_sum_val\n",
            "17 m_sum_val\n",
            "18 m_sum_val\n",
            "22 m_sum_val\n",
            "26 m_sum_val\n"
          ]
        }
      ]
    },
    {
      "cell_type": "code",
      "source": [
        "# add all pairs show position of index of those vars where it equals to target val\n",
        "def two_sum_function_2(nums_list, target_val):\n",
        "  for i in range(0, len(nums_list)):\n",
        "    for j in range(i + 1, len(nums_list)):\n",
        "      val = nums_list[i] + nums_list[j]\n",
        "\n",
        "      if val == target_val:\n",
        "        print('index:', i, j)\n",
        "\n",
        "list_2 = [2,5,6,9,11]\n",
        "print(two_sum_function_2(list_2,11))\n"
      ],
      "metadata": {
        "colab": {
          "base_uri": "https://localhost:8080/"
        },
        "id": "iyx4JjMo6s5J",
        "outputId": "a37ebeac-8857-4c77-b52a-6aea31f2f6de"
      },
      "execution_count": null,
      "outputs": [
        {
          "output_type": "stream",
          "name": "stdout",
          "text": [
            "index: 0 3\n",
            "index: 1 2\n",
            "None\n"
          ]
        }
      ]
    }
  ]
}