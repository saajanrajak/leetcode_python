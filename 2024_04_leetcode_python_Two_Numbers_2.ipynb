{
  "nbformat": 4,
  "nbformat_minor": 0,
  "metadata": {
    "colab": {
      "provenance": [],
      "authorship_tag": "ABX9TyNd/obMe46FdSaUsrF9se4o",
      "include_colab_link": true
    },
    "kernelspec": {
      "name": "python3",
      "display_name": "Python 3"
    },
    "language_info": {
      "name": "python"
    }
  },
  "cells": [
    {
      "cell_type": "markdown",
      "metadata": {
        "id": "view-in-github",
        "colab_type": "text"
      },
      "source": [
        "<a href=\"https://colab.research.google.com/github/saajanrajak/leetcode_python/blob/main/2024_04_leetcode_python_Two_Numbers_2.ipynb\" target=\"_parent\"><img src=\"https://colab.research.google.com/assets/colab-badge.svg\" alt=\"Open In Colab\"/></a>"
      ]
    },
    {
      "cell_type": "markdown",
      "source": [
        "# Objective : Leetcode"
      ],
      "metadata": {
        "id": "F6gI4wFC6A5j"
      }
    },
    {
      "cell_type": "markdown",
      "source": [
        "## 1 Two Numbers"
      ],
      "metadata": {
        "id": "_BCVp-0V6GNN"
      }
    },
    {
      "cell_type": "markdown",
      "source": [
        "https://colab.research.google.com/drive/126VT7nMqBDvRBEzESIeWp3FapWpam3QD#scrollTo=_BCVp-0V6GNN&line=1&uniqifier=1"
      ],
      "metadata": {
        "id": "mxyviBRJj0mA"
      }
    },
    {
      "cell_type": "markdown",
      "source": [
        "You are given two non-empty linked lists representing two non-negative integers. The digits are stored in reverse order, and each of their nodes contains a single digit. Add the two numbers and return the sum as a linked list.\n",
        "\n",
        "You may assume the two numbers do not contain any leading zero, except the number 0 itself.\n",
        "\n",
        "\n",
        "\n",
        "Example 1:\n",
        "\n",
        "\n",
        "Input: l1 = [2,4,3], l2 = [5,6,4]\n",
        "Output: [7,0,8]\n",
        "Explanation: 342 + 465 = 807.\n",
        "Example 2:\n",
        "\n",
        "Input: l1 = [0], l2 = [0]\n",
        "Output: [0]\n",
        "Example 3:\n",
        "\n",
        "Input: l1 = [9,9,9,9,9,9,9], l2 = [9,9,9,9]\n",
        "Output: [8,9,9,9,0,0,0,1]\n",
        "\n",
        "\n",
        "Constraints:\n",
        "\n",
        "The number of nodes in each linked list is in the range [1, 100].\n",
        "0 <= Node.val <= 9\n",
        "It is guaranteed that the list represents a number that does not have leading zeros."
      ],
      "metadata": {
        "id": "Gw_XJ7Q555dt"
      }
    },
    {
      "cell_type": "markdown",
      "source": [
        "## Code"
      ],
      "metadata": {
        "id": "ouFvM6Vzj36q"
      }
    },
    {
      "cell_type": "code",
      "source": [
        "import pandas as pd\n",
        "import numpy as np"
      ],
      "metadata": {
        "id": "Cngga5LrEcPC"
      },
      "execution_count": 2,
      "outputs": []
    },
    {
      "cell_type": "code",
      "source": [
        "list_1 = [2,4,3]\n",
        "list_2 = [5,6,4]"
      ],
      "metadata": {
        "id": "28i3DhLVekSf"
      },
      "execution_count": 16,
      "outputs": []
    },
    {
      "cell_type": "code",
      "source": [
        "range(len(list_1))"
      ],
      "metadata": {
        "colab": {
          "base_uri": "https://localhost:8080/"
        },
        "id": "AXGdGy5kpOTz",
        "outputId": "ff7a92ed-e69a-40d1-c619-e84a202e2e93"
      },
      "execution_count": 17,
      "outputs": [
        {
          "output_type": "execute_result",
          "data": {
            "text/plain": [
              "range(0, 3)"
            ]
          },
          "metadata": {},
          "execution_count": 17
        }
      ]
    },
    {
      "cell_type": "code",
      "source": [
        "# print values in reverse order\n",
        "def rev_list_function(list_1):\n",
        "  rev_list_1 = []\n",
        "  for i in range(len(list_1)): # reverse the number\n",
        "    j = len(list_1) - i -1\n",
        "    x = list_1[j]\n",
        "    rev_list_1.append(str(x))\n",
        "    print(rev_list_1)\n",
        "  return(int(''.join(rev_list_1)))\n",
        "\n",
        "\n",
        "rev_list_function(list_1)"
      ],
      "metadata": {
        "colab": {
          "base_uri": "https://localhost:8080/"
        },
        "id": "pxkFc286fSEY",
        "outputId": "173fdc44-9e16-4d71-ae4c-557566fe918d"
      },
      "execution_count": 34,
      "outputs": [
        {
          "output_type": "stream",
          "name": "stdout",
          "text": [
            "['3']\n",
            "['3', '4']\n",
            "['3', '4', '2']\n"
          ]
        },
        {
          "output_type": "execute_result",
          "data": {
            "text/plain": [
              "342"
            ]
          },
          "metadata": {},
          "execution_count": 34
        }
      ]
    },
    {
      "cell_type": "code",
      "source": [
        "def rev_2_list_and_add_function(list_1, list_2):\n",
        "  v1 = rev_list_function(list_1)\n",
        "  v2 = rev_list_function(list_2)\n",
        "\n",
        "  v3 = v1+v2\n",
        "\n",
        "  #--------\n",
        "  print(v3)\n",
        "\n",
        "print(list_1, list_2)\n",
        "rev_2_list_and_add_function(list_1,list_2)\n",
        "\n"
      ],
      "metadata": {
        "colab": {
          "base_uri": "https://localhost:8080/"
        },
        "id": "PNAxyZrUr9a3",
        "outputId": "44034593-8471-4bf2-db3b-3a963fced430"
      },
      "execution_count": 37,
      "outputs": [
        {
          "output_type": "stream",
          "name": "stdout",
          "text": [
            "[2, 4, 3] [5, 6, 4]\n",
            "['3']\n",
            "['3', '4']\n",
            "['3', '4', '2']\n",
            "['4']\n",
            "['4', '6']\n",
            "['4', '6', '5']\n",
            "807\n"
          ]
        }
      ]
    }
  ]
}